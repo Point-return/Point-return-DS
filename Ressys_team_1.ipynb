{
 "cells": [
  {
   "cell_type": "markdown",
   "id": "9e920168",
   "metadata": {},
   "source": [
    "### <p style=\"font-family:JetBrains Mono; font-weight:bold; letter-spacing: 2px; color:#294B8E; font-size:140%; text-align:left;padding: 0px; border-bottom: 3px solid #294B8E\">Разработка рекомендательной модели на основе данных о товарах</p>"
   ]
  },
  {
   "cell_type": "markdown",
   "id": "e18faba2",
   "metadata": {},
   "source": [
    "<a id=\"1.2\"></a>\n",
    "<div style=\"padding:20px;\n",
    "            color:white;\n",
    "            margin:10;\n",
    "            font-size:170%;\n",
    "            text-align:left;\n",
    "            display:fill;\n",
    "            border-radius:5px;\n",
    "            background-color:#294B8E;\n",
    "            overflow:hidden;\n",
    "            font-weight:700\"><span style='color:#CDA63A'>|</span> Содержание</div>"
   ]
  },
  {
   "cell_type": "markdown",
   "id": "a621b62b",
   "metadata": {},
   "source": [
    "<div class=\"toc\"><ul class=\"toc-item\"><li><span><a href=\"#Описание-данных\" data-toc-modified-id=\"Описание-данных-1\"><span class=\"toc-item-num\">1&nbsp;&nbsp;</span>Описание данных</a></span></li>\n",
    "    <li><span><a href=\"#Загрузка-библиотек\" data-toc-modified-id=\"Загрузка-библиотек-2\"><span class=\"toc-item-num\">2&nbsp;&nbsp;</span>Загрузка библиотек</a></span></li>\n",
    "    <li><span><a href=\"#EDA\" data-toc-modified-id=\"EDA-3\"><span class=\"toc-item-num\">3&nbsp;&nbsp;</span>EDA</a></span></li>\n",
    "    <li><span><a href=\"#Предобработка-данных\" data-toc-modified-id=\"Предобработка-данных-4\"><span class=\"toc-item-num\">4&nbsp;&nbsp;</span>Предобработка данных</a></span></li>\n",
    "    <li><span><a href=\"#Рекомендательная-система\" data-toc-modified-id=\"Рекомендательная-система-8\"><span class=\"toc-item-num\">8&nbsp;&nbsp;</span>Рекомендательная система</a></span></li>\n",
    "    <li><span><a href=\"#Тесты\" data-toc-modified-id=\"Тесты-9\"><span class=\"toc-item-num\">9&nbsp;&nbsp;</span>Тесты</a></span></li>\n",
    "    <li><span><a href=\"#Вывод\" data-toc-modified-id=\"Вывод-10\"><span class=\"toc-item-num\">10&nbsp;&nbsp;</span>Вывод</a></span></li>"
   ]
  },
  {
   "cell_type": "markdown",
   "id": "d17e088b",
   "metadata": {},
   "source": [
    "<a id=\"Описание-данных\"></a>\n",
    "<div style=\"padding:20px;\n",
    "            color:white;\n",
    "            margin:10;\n",
    "            font-size:170%;\n",
    "            text-align:left;\n",
    "            display:fill;\n",
    "            border-radius:5px;\n",
    "            background-color:#294B8E;\n",
    "            overflow:hidden;\n",
    "            font-weight:700\"><span style='color:#CDA63A'>|</span> Описание данных</div>"
   ]
  },
  {
   "cell_type": "markdown",
   "id": "e03a91e5",
   "metadata": {},
   "source": [
    "## marketing_dealer - список дилеров"
   ]
  },
  {
   "cell_type": "markdown",
   "id": "78668ae2",
   "metadata": {},
   "source": [
    "## marketing_dealerprice - результат работы парсера площадок дилеров\n",
    "<ul>\n",
    "<li>product_key - уникальный номер позиции;</li>\n",
    "<li>price - цена;</li>\n",
    "<li>product_url - адрес страницы, откуда собраны данные;</li>\n",
    "<li>product_name - заголовок продаваемого товара;</li>   \n",
    "<li>date - дата получения информации;</li>\n",
    "<li>dealer_id - идентификатор дилера (внешний ключ к marketing_dealer)</li>\n",
    "</ul>"
   ]
  },
  {
   "cell_type": "markdown",
   "id": "409597ba",
   "metadata": {},
   "source": [
    "## marketing_product - список товаров, которые производит и распространяет заказчик\n",
    "<ul>\n",
    "<li>article - артикул товара;</li>\n",
    "<li>ean_13 - код товара (см. EAN 13);</li>\n",
    "<li>name - название товара;</li>\n",
    "<li>cost - стоимость;</li>\n",
    "<li>min_recommended_price - рекомендованная минимальная цена;</li>\n",
    "<li>recommended_price - рекомендованная цена;</li>\n",
    "<li>category_id - категория товара;</li>\n",
    "<li>ozon_name - названиет товара на Озоне;</li>\n",
    "<li>name_1c - название товара в 1C;</li>\n",
    "<li>wb_name - название товара на Wildberries;</li>\n",
    "<li>ozon_article - описание для Озон;</li>\n",
    "<li>wb_article - артикул для Wildberries;</li>\n",
    "<li>ym_article - артикул для Яндекс.Маркета;</li>\n",
    "</ul>"
   ]
  },
  {
   "cell_type": "markdown",
   "id": "0e154ea5",
   "metadata": {},
   "source": [
    "## marketing_productdealerkey - таблица матчинга товаров заказчика и товаров дилеров\n",
    "<ul>\n",
    "<li>key - внешний ключ к marketing_dealerprice</li>\n",
    "<li>product_id - внешний ключ к marketing_product</li>\n",
    "<li>dealer_id - внешний ключ к marketing_dealer</li>\n",
    "</ul>"
   ]
  },
  {
   "cell_type": "markdown",
   "id": "376dc96e",
   "metadata": {},
   "source": [
    "<div class=\"alert alert-block alert-info\" style=\"background-color:#FFFAF0;\n",
    "                                                 color:black;\n",
    "                                                 border-color:#DEB887;\n",
    "                                                 border-radius:5px;\n",
    "                                                 width:50%;\n",
    "                                                 margin: auto;\n",
    "                                                 text-align: left;\">\n",
    "\n",
    "\n",
    "Необходимо разработать рекомендательную модель, которая позволяет по продукту дилера найти подходящие соответствия из рядов товаров производителя.\n",
    "\n",
    "</div>"
   ]
  },
  {
   "cell_type": "markdown",
   "id": "38d99125",
   "metadata": {},
   "source": [
    "<a id=\"Загрузка-библиотек\"></a>\n",
    "<div style=\"padding:20px;\n",
    "            color:white;\n",
    "            margin:10;\n",
    "            font-size:170%;\n",
    "            text-align:left;\n",
    "            display:fill;\n",
    "            border-radius:5px;\n",
    "            background-color:#294B8E;\n",
    "            overflow:hidden;\n",
    "            font-weight:700\"><span style='color:#CDA63A'>|</span> Загрузка библиотек</div>"
   ]
  },
  {
   "cell_type": "code",
   "execution_count": 1,
   "id": "b7c3a131",
   "metadata": {},
   "outputs": [],
   "source": [
    "import re\n",
    "import pandas as pd\n",
    "from fuzzywuzzy import fuzz, process\n",
    "import numpy as np"
   ]
  },
  {
   "cell_type": "markdown",
   "id": "2a5f72a2",
   "metadata": {},
   "source": [
    "<div style=\"border-radius:10px; border:#DEB887 solid; padding: 15px; background-color: #FFFAF0; font-size:100%; text-align:left\">Изучим наши датафреймы."
   ]
  },
  {
   "cell_type": "markdown",
   "id": "1fac20fc",
   "metadata": {},
   "source": [
    "<a id=\"EDA\"></a>\n",
    "<div style=\"padding:20px;\n",
    "            color:white;\n",
    "            margin:10;\n",
    "            font-size:170%;\n",
    "            text-align:left;\n",
    "            display:fill;\n",
    "            border-radius:5px;\n",
    "            background-color:#294B8E;\n",
    "            overflow:hidden;\n",
    "            font-weight:700\"><span style='color:#CDA63A'>|</span> EDA</div>"
   ]
  },
  {
   "cell_type": "code",
   "execution_count": 2,
   "id": "9b899453",
   "metadata": {},
   "outputs": [
    {
     "data": {
      "text/html": [
       "<div>\n",
       "<style scoped>\n",
       "    .dataframe tbody tr th:only-of-type {\n",
       "        vertical-align: middle;\n",
       "    }\n",
       "\n",
       "    .dataframe tbody tr th {\n",
       "        vertical-align: top;\n",
       "    }\n",
       "\n",
       "    .dataframe thead th {\n",
       "        text-align: right;\n",
       "    }\n",
       "</style>\n",
       "<table border=\"1\" class=\"dataframe\">\n",
       "  <thead>\n",
       "    <tr style=\"text-align: right;\">\n",
       "      <th></th>\n",
       "      <th>Unnamed: 0</th>\n",
       "      <th>id</th>\n",
       "      <th>article</th>\n",
       "      <th>ean_13</th>\n",
       "      <th>name</th>\n",
       "      <th>cost</th>\n",
       "      <th>recommended_price</th>\n",
       "      <th>category_id</th>\n",
       "      <th>ozon_name</th>\n",
       "      <th>name_1c</th>\n",
       "      <th>wb_name</th>\n",
       "      <th>ozon_article</th>\n",
       "      <th>wb_article</th>\n",
       "      <th>ym_article</th>\n",
       "      <th>wb_article_td</th>\n",
       "    </tr>\n",
       "  </thead>\n",
       "  <tbody>\n",
       "    <tr>\n",
       "      <th>0</th>\n",
       "      <td>0</td>\n",
       "      <td>245</td>\n",
       "      <td>008-1</td>\n",
       "      <td>4.680008e+12</td>\n",
       "      <td>Антисептик невымываемыйPROSEPT ULTRAконцентрат...</td>\n",
       "      <td>360.00</td>\n",
       "      <td>858.0</td>\n",
       "      <td>20.0</td>\n",
       "      <td>Антисептик невымываемый для ответственных конс...</td>\n",
       "      <td>Антисептик невымываемый для ответственных конс...</td>\n",
       "      <td>Антисептик невымываемый для ответственных конс...</td>\n",
       "      <td>189522705.0</td>\n",
       "      <td>150033482.0</td>\n",
       "      <td>008-1</td>\n",
       "      <td>NaN</td>\n",
       "    </tr>\n",
       "    <tr>\n",
       "      <th>1</th>\n",
       "      <td>1</td>\n",
       "      <td>3</td>\n",
       "      <td>242-12</td>\n",
       "      <td>NaN</td>\n",
       "      <td>Антигололед - 32 PROSEPTготовый состав / 12 кг</td>\n",
       "      <td>460.16</td>\n",
       "      <td>1075.0</td>\n",
       "      <td>NaN</td>\n",
       "      <td>NaN</td>\n",
       "      <td>Антигололед - 32 PROSEPTготовый состав / 12 кг</td>\n",
       "      <td>NaN</td>\n",
       "      <td>NaN</td>\n",
       "      <td>NaN</td>\n",
       "      <td>NaN</td>\n",
       "      <td>NaN</td>\n",
       "    </tr>\n",
       "    <tr>\n",
       "      <th>2</th>\n",
       "      <td>2</td>\n",
       "      <td>443</td>\n",
       "      <td>0024-06 с</td>\n",
       "      <td>4.680008e+12</td>\n",
       "      <td>Герметик акриловый цвет сосна, ф/п 600мл</td>\n",
       "      <td>307.00</td>\n",
       "      <td>644.0</td>\n",
       "      <td>25.0</td>\n",
       "      <td>Герметик акриловый для швов для деревянных дом...</td>\n",
       "      <td>Герметик акриловый цвет сосна, ф/п 600мл</td>\n",
       "      <td>Герметик акриловый для швов для деревянных дом...</td>\n",
       "      <td>189522735.0</td>\n",
       "      <td>150126217.0</td>\n",
       "      <td>0024-06-с</td>\n",
       "      <td>NaN</td>\n",
       "    </tr>\n",
       "    <tr>\n",
       "      <th>3</th>\n",
       "      <td>3</td>\n",
       "      <td>147</td>\n",
       "      <td>305-2</td>\n",
       "      <td>4.610093e+12</td>\n",
       "      <td>Кондиционер для белья с ароматом  королевского...</td>\n",
       "      <td>157.73</td>\n",
       "      <td>342.0</td>\n",
       "      <td>29.0</td>\n",
       "      <td>Кондиционер для белья \"Королевский Ирис\" Prose...</td>\n",
       "      <td>Кондиционер для белья \"Королевский Ирис\" Prose...</td>\n",
       "      <td>Кондиционер для белья \"Королевский Ирис\" Prose...</td>\n",
       "      <td>339377922.0</td>\n",
       "      <td>150032962.0</td>\n",
       "      <td>305-2</td>\n",
       "      <td>NaN</td>\n",
       "    </tr>\n",
       "    <tr>\n",
       "      <th>4</th>\n",
       "      <td>4</td>\n",
       "      <td>502</td>\n",
       "      <td>0024-7 б</td>\n",
       "      <td>NaN</td>\n",
       "      <td>Герметик акриловой  цвет Белый, 7 кг</td>\n",
       "      <td>NaN</td>\n",
       "      <td>NaN</td>\n",
       "      <td>NaN</td>\n",
       "      <td>NaN</td>\n",
       "      <td>NaN</td>\n",
       "      <td>NaN</td>\n",
       "      <td>189522867.0</td>\n",
       "      <td>150126216.0</td>\n",
       "      <td>0024-7-б</td>\n",
       "      <td>NaN</td>\n",
       "    </tr>\n",
       "  </tbody>\n",
       "</table>\n",
       "</div>"
      ],
      "text/plain": [
       "   Unnamed: 0   id    article        ean_13  \\\n",
       "0           0  245      008-1  4.680008e+12   \n",
       "1           1    3     242-12           NaN   \n",
       "2           2  443  0024-06 с  4.680008e+12   \n",
       "3           3  147      305-2  4.610093e+12   \n",
       "4           4  502   0024-7 б           NaN   \n",
       "\n",
       "                                                name    cost  \\\n",
       "0  Антисептик невымываемыйPROSEPT ULTRAконцентрат...  360.00   \n",
       "1     Антигололед - 32 PROSEPTготовый состав / 12 кг  460.16   \n",
       "2           Герметик акриловый цвет сосна, ф/п 600мл  307.00   \n",
       "3  Кондиционер для белья с ароматом  королевского...  157.73   \n",
       "4               Герметик акриловой  цвет Белый, 7 кг     NaN   \n",
       "\n",
       "   recommended_price  category_id  \\\n",
       "0              858.0         20.0   \n",
       "1             1075.0          NaN   \n",
       "2              644.0         25.0   \n",
       "3              342.0         29.0   \n",
       "4                NaN          NaN   \n",
       "\n",
       "                                           ozon_name  \\\n",
       "0  Антисептик невымываемый для ответственных конс...   \n",
       "1                                                NaN   \n",
       "2  Герметик акриловый для швов для деревянных дом...   \n",
       "3  Кондиционер для белья \"Королевский Ирис\" Prose...   \n",
       "4                                                NaN   \n",
       "\n",
       "                                             name_1c  \\\n",
       "0  Антисептик невымываемый для ответственных конс...   \n",
       "1     Антигололед - 32 PROSEPTготовый состав / 12 кг   \n",
       "2           Герметик акриловый цвет сосна, ф/п 600мл   \n",
       "3  Кондиционер для белья \"Королевский Ирис\" Prose...   \n",
       "4                                                NaN   \n",
       "\n",
       "                                             wb_name  ozon_article  \\\n",
       "0  Антисептик невымываемый для ответственных конс...   189522705.0   \n",
       "1                                                NaN           NaN   \n",
       "2  Герметик акриловый для швов для деревянных дом...   189522735.0   \n",
       "3  Кондиционер для белья \"Королевский Ирис\" Prose...   339377922.0   \n",
       "4                                                NaN   189522867.0   \n",
       "\n",
       "    wb_article ym_article wb_article_td  \n",
       "0  150033482.0      008-1           NaN  \n",
       "1          NaN        NaN           NaN  \n",
       "2  150126217.0  0024-06-с           NaN  \n",
       "3  150032962.0      305-2           NaN  \n",
       "4  150126216.0   0024-7-б           NaN  "
      ]
     },
     "execution_count": 2,
     "metadata": {},
     "output_type": "execute_result"
    }
   ],
   "source": [
    "marketing_product = pd.read_csv('marketing_product.csv', sep = ';')\n",
    "marketing_product.head()"
   ]
  },
  {
   "cell_type": "code",
   "execution_count": 3,
   "id": "1d536a37",
   "metadata": {},
   "outputs": [
    {
     "name": "stdout",
     "output_type": "stream",
     "text": [
      "<class 'pandas.core.frame.DataFrame'>\n",
      "RangeIndex: 496 entries, 0 to 495\n",
      "Data columns (total 15 columns):\n",
      " #   Column             Non-Null Count  Dtype  \n",
      "---  ------             --------------  -----  \n",
      " 0   Unnamed: 0         496 non-null    int64  \n",
      " 1   id                 496 non-null    int64  \n",
      " 2   article            496 non-null    object \n",
      " 3   ean_13             464 non-null    float64\n",
      " 4   name               494 non-null    object \n",
      " 5   cost               491 non-null    float64\n",
      " 6   recommended_price  491 non-null    float64\n",
      " 7   category_id        447 non-null    float64\n",
      " 8   ozon_name          458 non-null    object \n",
      " 9   name_1c            485 non-null    object \n",
      " 10  wb_name            455 non-null    object \n",
      " 11  ozon_article       365 non-null    float64\n",
      " 12  wb_article         340 non-null    float64\n",
      " 13  ym_article         337 non-null    object \n",
      " 14  wb_article_td      32 non-null     object \n",
      "dtypes: float64(6), int64(2), object(7)\n",
      "memory usage: 58.3+ KB\n"
     ]
    }
   ],
   "source": [
    "marketing_product.info()"
   ]
  },
  {
   "cell_type": "code",
   "execution_count": 4,
   "id": "23fff4c0",
   "metadata": {},
   "outputs": [
    {
     "data": {
      "text/html": [
       "<div>\n",
       "<style scoped>\n",
       "    .dataframe tbody tr th:only-of-type {\n",
       "        vertical-align: middle;\n",
       "    }\n",
       "\n",
       "    .dataframe tbody tr th {\n",
       "        vertical-align: top;\n",
       "    }\n",
       "\n",
       "    .dataframe thead th {\n",
       "        text-align: right;\n",
       "    }\n",
       "</style>\n",
       "<table border=\"1\" class=\"dataframe\">\n",
       "  <thead>\n",
       "    <tr style=\"text-align: right;\">\n",
       "      <th></th>\n",
       "      <th>id</th>\n",
       "      <th>product_key</th>\n",
       "      <th>price</th>\n",
       "      <th>product_url</th>\n",
       "      <th>product_name</th>\n",
       "      <th>date</th>\n",
       "      <th>dealer_id</th>\n",
       "    </tr>\n",
       "  </thead>\n",
       "  <tbody>\n",
       "    <tr>\n",
       "      <th>0</th>\n",
       "      <td>2</td>\n",
       "      <td>546227</td>\n",
       "      <td>233.0</td>\n",
       "      <td>https://akson.ru//p/sredstvo_universalnoe_pros...</td>\n",
       "      <td>Средство универсальное Prosept Universal Spray...</td>\n",
       "      <td>2023-07-11</td>\n",
       "      <td>2</td>\n",
       "    </tr>\n",
       "    <tr>\n",
       "      <th>1</th>\n",
       "      <td>3</td>\n",
       "      <td>546408</td>\n",
       "      <td>175.0</td>\n",
       "      <td>https://akson.ru//p/kontsentrat_prosept_multip...</td>\n",
       "      <td>Концентрат Prosept Multipower для мытья полов,...</td>\n",
       "      <td>2023-07-11</td>\n",
       "      <td>2</td>\n",
       "    </tr>\n",
       "    <tr>\n",
       "      <th>2</th>\n",
       "      <td>4</td>\n",
       "      <td>546234</td>\n",
       "      <td>285.0</td>\n",
       "      <td>https://akson.ru//p/sredstvo_dlya_chistki_lyus...</td>\n",
       "      <td>Средство для чистки люстр Prosept Universal An...</td>\n",
       "      <td>2023-07-11</td>\n",
       "      <td>2</td>\n",
       "    </tr>\n",
       "    <tr>\n",
       "      <th>3</th>\n",
       "      <td>5</td>\n",
       "      <td>651258</td>\n",
       "      <td>362.0</td>\n",
       "      <td>https://akson.ru//p/udalitel_rzhavchiny_prosep...</td>\n",
       "      <td>Удалитель ржавчины PROSEPT RUST REMOVER 0,5л 0...</td>\n",
       "      <td>2023-07-11</td>\n",
       "      <td>2</td>\n",
       "    </tr>\n",
       "    <tr>\n",
       "      <th>4</th>\n",
       "      <td>6</td>\n",
       "      <td>546355</td>\n",
       "      <td>205.0</td>\n",
       "      <td>https://akson.ru//p/sredstvo_moyushchee_dlya_b...</td>\n",
       "      <td>Средство моющее для бани и сауны Prosept Multi...</td>\n",
       "      <td>2023-07-11</td>\n",
       "      <td>2</td>\n",
       "    </tr>\n",
       "  </tbody>\n",
       "</table>\n",
       "</div>"
      ],
      "text/plain": [
       "   id product_key  price                                        product_url  \\\n",
       "0   2      546227  233.0  https://akson.ru//p/sredstvo_universalnoe_pros...   \n",
       "1   3      546408  175.0  https://akson.ru//p/kontsentrat_prosept_multip...   \n",
       "2   4      546234  285.0  https://akson.ru//p/sredstvo_dlya_chistki_lyus...   \n",
       "3   5      651258  362.0  https://akson.ru//p/udalitel_rzhavchiny_prosep...   \n",
       "4   6      546355  205.0  https://akson.ru//p/sredstvo_moyushchee_dlya_b...   \n",
       "\n",
       "                                        product_name        date  dealer_id  \n",
       "0  Средство универсальное Prosept Universal Spray...  2023-07-11          2  \n",
       "1  Концентрат Prosept Multipower для мытья полов,...  2023-07-11          2  \n",
       "2  Средство для чистки люстр Prosept Universal An...  2023-07-11          2  \n",
       "3  Удалитель ржавчины PROSEPT RUST REMOVER 0,5л 0...  2023-07-11          2  \n",
       "4  Средство моющее для бани и сауны Prosept Multi...  2023-07-11          2  "
      ]
     },
     "execution_count": 4,
     "metadata": {},
     "output_type": "execute_result"
    }
   ],
   "source": [
    "marketing_dealerprice = pd.read_csv('marketing_dealerprice.csv', sep = ';')\n",
    "marketing_dealerprice.head()"
   ]
  },
  {
   "cell_type": "code",
   "execution_count": 5,
   "id": "7ca7eb1b",
   "metadata": {
    "scrolled": true
   },
   "outputs": [
    {
     "data": {
      "text/html": [
       "<div>\n",
       "<style scoped>\n",
       "    .dataframe tbody tr th:only-of-type {\n",
       "        vertical-align: middle;\n",
       "    }\n",
       "\n",
       "    .dataframe tbody tr th {\n",
       "        vertical-align: top;\n",
       "    }\n",
       "\n",
       "    .dataframe thead th {\n",
       "        text-align: right;\n",
       "    }\n",
       "</style>\n",
       "<table border=\"1\" class=\"dataframe\">\n",
       "  <thead>\n",
       "    <tr style=\"text-align: right;\">\n",
       "      <th></th>\n",
       "      <th>id</th>\n",
       "      <th>key</th>\n",
       "      <th>dealer_id</th>\n",
       "      <th>product_id</th>\n",
       "    </tr>\n",
       "  </thead>\n",
       "  <tbody>\n",
       "    <tr>\n",
       "      <th>0</th>\n",
       "      <td>1</td>\n",
       "      <td>546227</td>\n",
       "      <td>2</td>\n",
       "      <td>12</td>\n",
       "    </tr>\n",
       "    <tr>\n",
       "      <th>1</th>\n",
       "      <td>2</td>\n",
       "      <td>651265</td>\n",
       "      <td>2</td>\n",
       "      <td>106</td>\n",
       "    </tr>\n",
       "    <tr>\n",
       "      <th>2</th>\n",
       "      <td>3</td>\n",
       "      <td>546257</td>\n",
       "      <td>2</td>\n",
       "      <td>200</td>\n",
       "    </tr>\n",
       "    <tr>\n",
       "      <th>3</th>\n",
       "      <td>4</td>\n",
       "      <td>546408</td>\n",
       "      <td>2</td>\n",
       "      <td>38</td>\n",
       "    </tr>\n",
       "    <tr>\n",
       "      <th>4</th>\n",
       "      <td>5</td>\n",
       "      <td>651258</td>\n",
       "      <td>2</td>\n",
       "      <td>403</td>\n",
       "    </tr>\n",
       "  </tbody>\n",
       "</table>\n",
       "</div>"
      ],
      "text/plain": [
       "   id     key  dealer_id  product_id\n",
       "0   1  546227          2          12\n",
       "1   2  651265          2         106\n",
       "2   3  546257          2         200\n",
       "3   4  546408          2          38\n",
       "4   5  651258          2         403"
      ]
     },
     "execution_count": 5,
     "metadata": {},
     "output_type": "execute_result"
    }
   ],
   "source": [
    "marketing_productdealerkey = pd.read_csv('marketing_productdealerkey.csv', sep = ';')\n",
    "marketing_productdealerkey.head()"
   ]
  },
  {
   "cell_type": "code",
   "execution_count": 6,
   "id": "f07bde32",
   "metadata": {},
   "outputs": [
    {
     "data": {
      "text/html": [
       "<div>\n",
       "<style scoped>\n",
       "    .dataframe tbody tr th:only-of-type {\n",
       "        vertical-align: middle;\n",
       "    }\n",
       "\n",
       "    .dataframe tbody tr th {\n",
       "        vertical-align: top;\n",
       "    }\n",
       "\n",
       "    .dataframe thead th {\n",
       "        text-align: right;\n",
       "    }\n",
       "</style>\n",
       "<table border=\"1\" class=\"dataframe\">\n",
       "  <thead>\n",
       "    <tr style=\"text-align: right;\">\n",
       "      <th></th>\n",
       "      <th>id</th>\n",
       "      <th>name</th>\n",
       "    </tr>\n",
       "  </thead>\n",
       "  <tbody>\n",
       "    <tr>\n",
       "      <th>10</th>\n",
       "      <td>241</td>\n",
       "      <td>Отбеливатель для древесины PROSEPT 50концентра...</td>\n",
       "    </tr>\n",
       "    <tr>\n",
       "      <th>11</th>\n",
       "      <td>339</td>\n",
       "      <td>Антисептик лессирующий BiO LASUR / тик / 9 л</td>\n",
       "    </tr>\n",
       "    <tr>\n",
       "      <th>12</th>\n",
       "      <td>346</td>\n",
       "      <td>Антисептик лессирующий BiO LASUR / махагон / 0...</td>\n",
       "    </tr>\n",
       "    <tr>\n",
       "      <th>13</th>\n",
       "      <td>343</td>\n",
       "      <td>Антисептик лессирующий BiO LASUR / лиственница...</td>\n",
       "    </tr>\n",
       "    <tr>\n",
       "      <th>14</th>\n",
       "      <td>337</td>\n",
       "      <td>Антисептик лессирующий BiO LASUR / тик / 0,9 л</td>\n",
       "    </tr>\n",
       "    <tr>\n",
       "      <th>15</th>\n",
       "      <td>43</td>\n",
       "      <td>Средство для мытья полов и стенMultipower \"Пол...</td>\n",
       "    </tr>\n",
       "    <tr>\n",
       "      <th>16</th>\n",
       "      <td>338</td>\n",
       "      <td>Антисептик лессирующий BiO LASUR / тик / 2,7 л</td>\n",
       "    </tr>\n",
       "    <tr>\n",
       "      <th>17</th>\n",
       "      <td>348</td>\n",
       "      <td>Антисептик лессирующий BiO LASUR / махагон / 9 л</td>\n",
       "    </tr>\n",
       "    <tr>\n",
       "      <th>18</th>\n",
       "      <td>341</td>\n",
       "      <td>Антисептик лессирующий BiO LASUR / дуб / 2,7 л</td>\n",
       "    </tr>\n",
       "    <tr>\n",
       "      <th>19</th>\n",
       "      <td>352</td>\n",
       "      <td>Антисептик лессирующий BiO LASUR / палисандр /...</td>\n",
       "    </tr>\n",
       "    <tr>\n",
       "      <th>20</th>\n",
       "      <td>353</td>\n",
       "      <td>Антисептик лессирующий BiO LASUR / палисандр /...</td>\n",
       "    </tr>\n",
       "    <tr>\n",
       "      <th>21</th>\n",
       "      <td>354</td>\n",
       "      <td>Антисептик лессирующий BiO LASUR / палисандр /...</td>\n",
       "    </tr>\n",
       "    <tr>\n",
       "      <th>22</th>\n",
       "      <td>351</td>\n",
       "      <td>Антисептик лессирующий BiO LASUR / орех / 9 л</td>\n",
       "    </tr>\n",
       "    <tr>\n",
       "      <th>23</th>\n",
       "      <td>503</td>\n",
       "      <td>NaN</td>\n",
       "    </tr>\n",
       "    <tr>\n",
       "      <th>24</th>\n",
       "      <td>44</td>\n",
       "      <td>Средство для мытья полов и стен Multipower \"По...</td>\n",
       "    </tr>\n",
       "    <tr>\n",
       "      <th>25</th>\n",
       "      <td>84</td>\n",
       "      <td>Гель для мытья  посуды вручную. Без запахаCook...</td>\n",
       "    </tr>\n",
       "    <tr>\n",
       "      <th>26</th>\n",
       "      <td>55</td>\n",
       "      <td>Средство усиленного действия для удаления ржав...</td>\n",
       "    </tr>\n",
       "    <tr>\n",
       "      <th>27</th>\n",
       "      <td>466</td>\n",
       "      <td>Герметик акриловый  цвет медовый ф/п 600 мл. (...</td>\n",
       "    </tr>\n",
       "    <tr>\n",
       "      <th>28</th>\n",
       "      <td>78</td>\n",
       "      <td>Cредство для чистки коптильных камерCooky Smok...</td>\n",
       "    </tr>\n",
       "    <tr>\n",
       "      <th>29</th>\n",
       "      <td>95</td>\n",
       "      <td>Гель эконом-класса для мытья посуды вручную. С...</td>\n",
       "    </tr>\n",
       "  </tbody>\n",
       "</table>\n",
       "</div>"
      ],
      "text/plain": [
       "     id                                               name\n",
       "10  241  Отбеливатель для древесины PROSEPT 50концентра...\n",
       "11  339       Антисептик лессирующий BiO LASUR / тик / 9 л\n",
       "12  346  Антисептик лессирующий BiO LASUR / махагон / 0...\n",
       "13  343  Антисептик лессирующий BiO LASUR / лиственница...\n",
       "14  337     Антисептик лессирующий BiO LASUR / тик / 0,9 л\n",
       "15   43  Средство для мытья полов и стенMultipower \"Пол...\n",
       "16  338     Антисептик лессирующий BiO LASUR / тик / 2,7 л\n",
       "17  348   Антисептик лессирующий BiO LASUR / махагон / 9 л\n",
       "18  341     Антисептик лессирующий BiO LASUR / дуб / 2,7 л\n",
       "19  352  Антисептик лессирующий BiO LASUR / палисандр /...\n",
       "20  353  Антисептик лессирующий BiO LASUR / палисандр /...\n",
       "21  354  Антисептик лессирующий BiO LASUR / палисандр /...\n",
       "22  351      Антисептик лессирующий BiO LASUR / орех / 9 л\n",
       "23  503                                                NaN\n",
       "24   44  Средство для мытья полов и стен Multipower \"По...\n",
       "25   84  Гель для мытья  посуды вручную. Без запахаCook...\n",
       "26   55  Средство усиленного действия для удаления ржав...\n",
       "27  466  Герметик акриловый  цвет медовый ф/п 600 мл. (...\n",
       "28   78  Cредство для чистки коптильных камерCooky Smok...\n",
       "29   95  Гель эконом-класса для мытья посуды вручную. С..."
      ]
     },
     "execution_count": 6,
     "metadata": {},
     "output_type": "execute_result"
    }
   ],
   "source": [
    "manufacturer_data = marketing_product[['id','name']]\n",
    "manufacturer_data[10: 30]"
   ]
  },
  {
   "cell_type": "markdown",
   "id": "f6758e5c",
   "metadata": {},
   "source": [
    "<div style=\"border-radius:10px; border:#DEB887 solid; padding: 15px; background-color: #FFFAF0; font-size:100%; text-align:left\">Сохраним таблицу. Она необходимо, чтобы в дальнейшем не повторять этот шаг при каждом повторном вызове скрипта модели."
   ]
  },
  {
   "cell_type": "code",
   "execution_count": 7,
   "id": "08bbed8a",
   "metadata": {},
   "outputs": [],
   "source": [
    "manufacturer_data.to_csv('manufacturer_data.csv', index=False)"
   ]
  },
  {
   "cell_type": "markdown",
   "id": "cf1dafec",
   "metadata": {},
   "source": [
    "<div style=\"border-radius:10px; border:#DEB887 solid; padding: 15px; background-color: #FFFAF0; font-size:100%; text-align:left\"> Загрузим объединенную таблицу."
   ]
  },
  {
   "cell_type": "code",
   "execution_count": 8,
   "id": "6b37e04c",
   "metadata": {},
   "outputs": [],
   "source": [
    "manufacturer_data = pd.read_csv('manufacturer_data.csv') "
   ]
  },
  {
   "cell_type": "markdown",
   "id": "55aeb48f",
   "metadata": {},
   "source": [
    "<a id=\"Предобработка-данных\"></a>\n",
    "<div style=\"padding:20px;\n",
    "            color:white;\n",
    "            margin:10;\n",
    "            font-size:170%;\n",
    "            text-align:left;\n",
    "            display:fill;\n",
    "            border-radius:5px;\n",
    "            background-color:#294B8E;\n",
    "            overflow:hidden;\n",
    "            font-weight:700\"><span style='color:#CDA63A'>|</span> Предобработка данных</div>"
   ]
  },
  {
   "cell_type": "markdown",
   "id": "76f5d416",
   "metadata": {},
   "source": [
    "<div style=\"border-radius:10px; border:#DEB887 solid; padding: 15px; background-color: #FFFAF0; font-size:100%; text-align:left\"> Создадим ручной словарь, который поможет нам разделитель слитные слова в столбце 'name'. "
   ]
  },
  {
   "cell_type": "code",
   "execution_count": 11,
   "id": "fde43291",
   "metadata": {},
   "outputs": [],
   "source": [
    "list_product_word = [\n",
    "    'PROSEPT', 'концентрат', 'Crystal', 'готовый', 'Duty', 'Multipower', 'MULTIPOWER', 'White', 'Belizna',\n",
    "    'Cooky', 'Diona', 'готовое', 'ULTRA', 'Antifoam', 'Bath', 'Universal', \n",
    "    'Carpet', 'концентрированное', 'Flox', 'эффектом', 'splash', 'epoxy', \n",
    "    'Candy', 'Optic', 'Clean', 'шампунь', 'штуки', 'Super', 'Plastix', 'Proplast', 'Ириса', 'FLOX'\n",
    "    ]\n"
   ]
  },
  {
   "cell_type": "markdown",
   "id": "9f4f109b",
   "metadata": {},
   "source": [
    "<div style=\"border-radius:10px; border:#DEB887 solid; padding: 15px; background-color: #FFFAF0; font-size:100%; text-align:left\"> Создадим функцию, разделяющую слитные слова в столбце 'name'. "
   ]
  },
  {
   "cell_type": "code",
   "execution_count": 12,
   "id": "243c35ca",
   "metadata": {},
   "outputs": [],
   "source": [
    "def get_not_continuous_words(data): \n",
    "    '''\n",
    "    \n",
    "    The function separates the combined\n",
    "    words in a column 'name'.\n",
    "    \n",
    "    '''\n",
    "    result = data['name']\n",
    "    \n",
    "    if (pd.isna(result)):\n",
    "        return '-'\n",
    "    else:\n",
    "    \n",
    "        for word in list_product_word:\n",
    "            tmp_str = result.split(str(word))\n",
    "            if len(tmp_str) > 1:\n",
    "                result = tmp_str[0] + ' ' + word + ' ' + tmp_str[1]\n",
    "\n",
    "        return result"
   ]
  },
  {
   "cell_type": "markdown",
   "id": "883be94f",
   "metadata": {},
   "source": [
    "<div style=\"border-radius:10px; border:#DEB887 solid; padding: 15px; background-color: #FFFAF0; font-size:100%; text-align:left\"> Создадим новый столбец 'name_split' без слитных слов. "
   ]
  },
  {
   "cell_type": "code",
   "execution_count": 13,
   "id": "6cab9004",
   "metadata": {},
   "outputs": [],
   "source": [
    "manufacturer_data['name_split'] = manufacturer_data.apply(get_not_continuous_words, axis=1)  "
   ]
  },
  {
   "cell_type": "code",
   "execution_count": 14,
   "id": "85014b2c",
   "metadata": {},
   "outputs": [
    {
     "data": {
      "text/html": [
       "<div>\n",
       "<style scoped>\n",
       "    .dataframe tbody tr th:only-of-type {\n",
       "        vertical-align: middle;\n",
       "    }\n",
       "\n",
       "    .dataframe tbody tr th {\n",
       "        vertical-align: top;\n",
       "    }\n",
       "\n",
       "    .dataframe thead th {\n",
       "        text-align: right;\n",
       "    }\n",
       "</style>\n",
       "<table border=\"1\" class=\"dataframe\">\n",
       "  <thead>\n",
       "    <tr style=\"text-align: right;\">\n",
       "      <th></th>\n",
       "      <th>id</th>\n",
       "      <th>name</th>\n",
       "      <th>name_split</th>\n",
       "    </tr>\n",
       "  </thead>\n",
       "  <tbody>\n",
       "    <tr>\n",
       "      <th>0</th>\n",
       "      <td>245</td>\n",
       "      <td>Антисептик невымываемыйPROSEPT ULTRAконцентрат...</td>\n",
       "      <td>Антисептик невымываемый PROSEPT   ULTRA  конце...</td>\n",
       "    </tr>\n",
       "    <tr>\n",
       "      <th>1</th>\n",
       "      <td>3</td>\n",
       "      <td>Антигололед - 32 PROSEPTготовый состав / 12 кг</td>\n",
       "      <td>Антигололед - 32  PROSEPT  готовый  состав / 1...</td>\n",
       "    </tr>\n",
       "    <tr>\n",
       "      <th>2</th>\n",
       "      <td>443</td>\n",
       "      <td>Герметик акриловый цвет сосна, ф/п 600мл</td>\n",
       "      <td>Герметик акриловый цвет сосна, ф/п 600мл</td>\n",
       "    </tr>\n",
       "    <tr>\n",
       "      <th>3</th>\n",
       "      <td>147</td>\n",
       "      <td>Кондиционер для белья с ароматом  королевского...</td>\n",
       "      <td>Кондиционер для белья с ароматом  королевского...</td>\n",
       "    </tr>\n",
       "    <tr>\n",
       "      <th>4</th>\n",
       "      <td>502</td>\n",
       "      <td>Герметик акриловой  цвет Белый, 7 кг</td>\n",
       "      <td>Герметик акриловой  цвет Белый, 7 кг</td>\n",
       "    </tr>\n",
       "  </tbody>\n",
       "</table>\n",
       "</div>"
      ],
      "text/plain": [
       "    id                                               name  \\\n",
       "0  245  Антисептик невымываемыйPROSEPT ULTRAконцентрат...   \n",
       "1    3     Антигололед - 32 PROSEPTготовый состав / 12 кг   \n",
       "2  443           Герметик акриловый цвет сосна, ф/п 600мл   \n",
       "3  147  Кондиционер для белья с ароматом  королевского...   \n",
       "4  502               Герметик акриловой  цвет Белый, 7 кг   \n",
       "\n",
       "                                          name_split  \n",
       "0  Антисептик невымываемый PROSEPT   ULTRA  конце...  \n",
       "1  Антигололед - 32  PROSEPT  готовый  состав / 1...  \n",
       "2           Герметик акриловый цвет сосна, ф/п 600мл  \n",
       "3  Кондиционер для белья с ароматом  королевского...  \n",
       "4               Герметик акриловой  цвет Белый, 7 кг  "
      ]
     },
     "execution_count": 14,
     "metadata": {},
     "output_type": "execute_result"
    }
   ],
   "source": [
    "manufacturer_data.head()"
   ]
  },
  {
   "cell_type": "markdown",
   "id": "c0b70757",
   "metadata": {},
   "source": [
    "<div style=\"border-radius:10px; border:#DEB887 solid; padding: 15px; background-color: #FFFAF0; font-size:100%; text-align:left\"> Создадим ручной словарь, который поможет нам разделитель слитные слова при вводе товара дилера. "
   ]
  },
  {
   "cell_type": "code",
   "execution_count": 15,
   "id": "55300ab9",
   "metadata": {},
   "outputs": [],
   "source": [
    "list_product_dealer = [\n",
    "    'антижук', 'PROSEPT', 'universal', 'ULTRA', 'grill', 'удаления',\n",
    "    'floor', 'remover', 'средство', 'стекол', 'зеркал', 'пластика',\n",
    "    'акриловых', 'bath', 'acryl', 'profi', 'Eco', 'multipower', 'xm11',\n",
    "    'graffiti', 'плесени', 'грибка', 'gel', 'снятия', 'shine', 'грунтовка',\n",
    "    '20л', '10л', '2л', 'hand', 'cristal', 'против', 'лак', 'полуматовый',\n",
    "    'глянцевый', 'невымываемый', 'машины', 'splash', 'орех', 'сlean', 'acid',\n",
    "    'polish', 'удаления', 'hard', 'посуды', 'полов', 'комнат',  'spray',\n",
    "    'посудомоечной', 'lime', 'rinser', 'sport', 'спортивной', 'черных',\n",
    "    'black', 'сауны', 'бани', 'труб', 'засоров', 'extra', 'после',\n",
    "    'очистки', 'ухода', 'мебелью', 'зеленый', 'красный', 'fungi','Crystal', \n",
    "    'концентрат', 'Cooky'\n",
    "    ]\n"
   ]
  },
  {
   "cell_type": "markdown",
   "id": "e57b5486",
   "metadata": {},
   "source": [
    "<div style=\"border-radius:10px; border:#DEB887 solid; padding: 15px; background-color: #FFFAF0; font-size:100%; text-align:left\"> Создадим функция, которая разделяет слитные слова при вводе товара дилера. "
   ]
  },
  {
   "cell_type": "code",
   "execution_count": 16,
   "id": "42e62504",
   "metadata": {},
   "outputs": [],
   "source": [
    "def get_not_continuous_words_when_entering(row):\n",
    "    '''\n",
    "    \n",
    "    The function separates concatenated \n",
    "    words when entering a dealer product.\n",
    "    \n",
    "    '''\n",
    "    result = row\n",
    "    for word in list_product_dealer:\n",
    "        result_split = result.split(word)\n",
    "        if len(result_split) > 1:\n",
    "            result = result_split[0] + ' ' + word + ' ' + result_split[1]\n",
    "\n",
    "    return result\n"
   ]
  },
  {
   "cell_type": "markdown",
   "id": "f1fbf507",
   "metadata": {},
   "source": [
    "<a id=\"Рекомендательная-система\"></a>\n",
    "<div style=\"padding:20px;\n",
    "            color:white;\n",
    "            margin:10;\n",
    "            font-size:170%;\n",
    "            text-align:left;\n",
    "            display:fill;\n",
    "            border-radius:5px;\n",
    "            background-color:#294B8E;\n",
    "            overflow:hidden;\n",
    "            font-weight:700\"><span style='color:#CDA63A'>|</span> Рекомендательная система</div>"
   ]
  },
  {
   "cell_type": "markdown",
   "id": "09e961cf",
   "metadata": {},
   "source": [
    "<div style=\"border-radius:10px; border:#DEB887 solid; padding: 15px; background-color: #FFFAF0; font-size:100%; text-align:left\">Создадим рекомендательную систему."
   ]
  },
  {
   "cell_type": "code",
   "execution_count": 17,
   "id": "ca704cde",
   "metadata": {},
   "outputs": [],
   "source": [
    "def get_suitable_products(\n",
    "        dealer_product: str, \n",
    "        manufacturer_products: pd.Series,\n",
    "        levenshtein_distance_max: int,\n",
    "    ) -> list:\n",
    "    '''\n",
    "    A Model Explanation System\n",
    "    \n",
    "    return: Array of suitable manufactur products\n",
    "    '''\n",
    "    \n",
    "    suitable_products = []\n",
    "    for i in range(len(manufacturer_products)):\n",
    "        product = manufacturer_products['name_split'][i]\n",
    "        l_d = fuzz.token_sort_ratio(get_not_continuous_words_when_entering(dealer_product), product)\n",
    "        if (l_d >= levenshtein_distance_max):\n",
    "            manufacturer_products_id = manufacturer_products[\n",
    "                manufacturer_products['name_split'] == product\n",
    "            ]['id'].to_string(index=False)\n",
    "            suitable_products.append({\n",
    "                'id':  manufacturer_products.loc[i]['id'], \n",
    "                'product_name': manufacturer_products['name'][i], \n",
    "                'levenshtein_distance': l_d \n",
    "            })        \n",
    "    return suitable_products"
   ]
  },
  {
   "cell_type": "code",
   "execution_count": 18,
   "id": "2cb7250d",
   "metadata": {},
   "outputs": [],
   "source": [
    "def get_solution(\n",
    "        dealer_product: str,\n",
    "        length: int = 10,\n",
    "        manufacturer_products: pd.Series = manufacturer_data,\n",
    "        levenshtein_distance_max: int = 50,\n",
    "    ) -> list:\n",
    "    \n",
    "    suitable_solution = get_suitable_products(\n",
    "        get_not_continuous_words_when_entering(dealer_product), \n",
    "        manufacturer_products, \n",
    "        levenshtein_distance_max\n",
    "    )\n",
    "    solution = sorted(suitable_solution, key=lambda x: x['levenshtein_distance'], reverse=True)\n",
    "    last_index = length if length < len(solution) else len(solution)\n",
    "    \n",
    "    return solution[0: last_index]\n",
    "    "
   ]
  },
  {
   "cell_type": "markdown",
   "id": "02e14daa",
   "metadata": {},
   "source": [
    "<a id=\"Тесты\"></a>\n",
    "<div style=\"padding:20px;\n",
    "            color:white;\n",
    "            margin:10;\n",
    "            font-size:170%;\n",
    "            text-align:left;\n",
    "            display:fill;\n",
    "            border-radius:5px;\n",
    "            background-color:#294B8E;\n",
    "            overflow:hidden;\n",
    "            font-weight:700\"><span style='color:#CDA63A'>|</span> Тесты</div>"
   ]
  },
  {
   "cell_type": "markdown",
   "id": "76d2c9fe",
   "metadata": {},
   "source": [
    "<div style=\"border-radius:10px; border:#DEB887 solid; padding: 15px; background-color: #FFFAF0; font-size:100%; text-align:left\"> Проверим как отрабатывает модель при различных входных данных."
   ]
  },
  {
   "cell_type": "markdown",
   "id": "38654b47",
   "metadata": {},
   "source": [
    "## Тест 1"
   ]
  },
  {
   "cell_type": "markdown",
   "id": "a322075f",
   "metadata": {},
   "source": [
    "### Случайное название товара дилера"
   ]
  },
  {
   "cell_type": "code",
   "execution_count": 19,
   "id": "40885d46",
   "metadata": {},
   "outputs": [
    {
     "data": {
      "text/plain": [
       "[{'id': 1,\n",
       "  'product_name': 'Средство для удаления наклеек Duty Universal / 210мл',\n",
       "  'levenshtein_distance': 61},\n",
       " {'id': 129,\n",
       "  'product_name': 'Средство для удаления клейкой ленты, клея, наклеекDuty Universalготовый состав / 2 л',\n",
       "  'levenshtein_distance': 60},\n",
       " {'id': 128,\n",
       "  'product_name': 'Средство для удаления клейкой ленты, клея, наклеекDuty Universalготовый состав / 400мл',\n",
       "  'levenshtein_distance': 59},\n",
       " {'id': 122,\n",
       "  'product_name': 'Средство для удаления гипсовой пылиDuty Whiteконцентрат 1:10-1:100 / 5 л  ',\n",
       "  'levenshtein_distance': 52},\n",
       " {'id': 121,\n",
       "  'product_name': 'Средство для удаления гипсовой пылиDuty Whiteконцентрат 1:10-1:100 / 1 л  ',\n",
       "  'levenshtein_distance': 52},\n",
       " {'id': 408,\n",
       "  'product_name': 'Средство для снятия обоев спрей / 1 л',\n",
       "  'levenshtein_distance': 51}]"
      ]
     },
     "execution_count": 19,
     "metadata": {},
     "output_type": "execute_result"
    }
   ],
   "source": [
    "get_solution('Средство для удаления ленты  клейкой ')"
   ]
  },
  {
   "cell_type": "markdown",
   "id": "4d1e1ff6",
   "metadata": {},
   "source": [
    "## Тест 2"
   ]
  },
  {
   "cell_type": "markdown",
   "id": "91395473",
   "metadata": {},
   "source": [
    "### Случайное название товара дилера"
   ]
  },
  {
   "cell_type": "code",
   "execution_count": 20,
   "id": "42567f8c",
   "metadata": {},
   "outputs": [
    {
     "data": {
      "text/plain": [
       "[{'id': 267,\n",
       "  'product_name': 'Антисептик для влажной древесиныPROSEPT BiOконцентрат 1:19 / 20 л',\n",
       "  'levenshtein_distance': 100},\n",
       " {'id': 268,\n",
       "  'product_name': 'Антисептик для влажной древесиныPROSEPT BiOконцентрат 1:19  / 30 л',\n",
       "  'levenshtein_distance': 98},\n",
       " {'id': 266,\n",
       "  'product_name': 'Антисептик для влажной древесиныPROSEPT BiOконцентрат 1:19 / 5 л',\n",
       "  'levenshtein_distance': 98},\n",
       " {'id': 265,\n",
       "  'product_name': 'Антисептик для влажной древесиныPROSEPT BiOконцентрат 1:19  / 1 л',\n",
       "  'levenshtein_distance': 96},\n",
       " {'id': 257,\n",
       "  'product_name': 'Антисептик для внутренних работPROSEPT INTERIORконцентрат 1:10 / 1 л',\n",
       "  'levenshtein_distance': 71},\n",
       " {'id': 243,\n",
       "  'product_name': 'Отбеливатель для древесиныPROSEPT 50концентрат 1:1 / 20 л',\n",
       "  'levenshtein_distance': 69},\n",
       " {'id': 258,\n",
       "  'product_name': 'Антисептик для внутренних работPROSEPT INTERIORконцентрат 1:10 / 5 л',\n",
       "  'levenshtein_distance': 69},\n",
       " {'id': 263,\n",
       "  'product_name': 'Антисептик для внутренних работPROSEPT SAUNAконцентрат 1:10 / 1 л',\n",
       "  'levenshtein_distance': 68},\n",
       " {'id': 264,\n",
       "  'product_name': 'Антисептик для внутренних работPROSEPT SAUNAконцентрат 1:10 / 5 л',\n",
       "  'levenshtein_distance': 68},\n",
       " {'id': 244,\n",
       "  'product_name': 'Отбеливатель для древесиныPROSEPT 50концентрат 1:1 / 30 л',\n",
       "  'levenshtein_distance': 67}]"
      ]
     },
     "execution_count": 20,
     "metadata": {},
     "output_type": "execute_result"
    }
   ],
   "source": [
    "get_solution('Антисептик для влажной древесины PROSEPT BiO, концентрат 1:19 20 л')"
   ]
  },
  {
   "cell_type": "markdown",
   "id": "8a258969",
   "metadata": {},
   "source": [
    "## Тест 3"
   ]
  },
  {
   "cell_type": "markdown",
   "id": "4c691ccf",
   "metadata": {},
   "source": [
    "### Случайное название товара дилера"
   ]
  },
  {
   "cell_type": "code",
   "execution_count": 21,
   "id": "d7653d66",
   "metadata": {},
   "outputs": [
    {
     "data": {
      "text/plain": [
       "[{'id': 209,\n",
       "  'product_name': 'Удалитель мха готовый состав / 1 л ',\n",
       "  'levenshtein_distance': 89},\n",
       " {'id': 210,\n",
       "  'product_name': 'Удалитель мха готовый состав / 5 л ',\n",
       "  'levenshtein_distance': 86},\n",
       " {'id': 484,\n",
       "  'product_name': 'Набор Удалитель мха, готовый состав, 1 л, 2 шт',\n",
       "  'levenshtein_distance': 80},\n",
       " {'id': 403,\n",
       "  'product_name': 'Удалитель ржавчины RUST REMOVER готовый состав / 0,5 л',\n",
       "  'levenshtein_distance': 74},\n",
       " {'id': 324,\n",
       "  'product_name': 'Лак для камня PROSEPTготовый состав / 2 л',\n",
       "  'levenshtein_distance': 70},\n",
       " {'id': 323,\n",
       "  'product_name': 'Лак для камня PROSEPTготовый состав / 0,9 л',\n",
       "  'levenshtein_distance': 68},\n",
       " {'id': 219,\n",
       "  'product_name': 'Лак яхтный PROSEPT, полуматовыйготовый состав / 2 л',\n",
       "  'levenshtein_distance': 67},\n",
       " {'id': 218,\n",
       "  'product_name': 'Лак яхтный PROSEPT, глянцевыйготовый состав / 2 л ',\n",
       "  'levenshtein_distance': 67},\n",
       " {'id': 390,\n",
       "  'product_name': 'Удалитель плесени FUNGI CLEAN готовый состав / 0,5 л',\n",
       "  'levenshtein_distance': 67},\n",
       " {'id': 328,\n",
       "  'product_name': 'Лак яхтный PROSEPT, полуматовый,готовый состав / 0,9 л',\n",
       "  'levenshtein_distance': 66}]"
      ]
     },
     "execution_count": 21,
     "metadata": {},
     "output_type": "execute_result"
    }
   ],
   "source": [
    "get_solution('Удалитель мха готовый состав 1 л PROSEPT')"
   ]
  },
  {
   "cell_type": "markdown",
   "id": "744c0e32",
   "metadata": {},
   "source": [
    "## Тест 4"
   ]
  },
  {
   "cell_type": "markdown",
   "id": "218de2b3",
   "metadata": {},
   "source": [
    "### C заданной длинной рекомендованных товаров 5 (по умолчанию 10)"
   ]
  },
  {
   "cell_type": "code",
   "execution_count": 22,
   "id": "633b5237",
   "metadata": {},
   "outputs": [
    {
     "data": {
      "text/plain": [
       "[{'id': 267,\n",
       "  'product_name': 'Антисептик для влажной древесиныPROSEPT BiOконцентрат 1:19 / 20 л',\n",
       "  'levenshtein_distance': 100},\n",
       " {'id': 268,\n",
       "  'product_name': 'Антисептик для влажной древесиныPROSEPT BiOконцентрат 1:19  / 30 л',\n",
       "  'levenshtein_distance': 98},\n",
       " {'id': 266,\n",
       "  'product_name': 'Антисептик для влажной древесиныPROSEPT BiOконцентрат 1:19 / 5 л',\n",
       "  'levenshtein_distance': 98},\n",
       " {'id': 265,\n",
       "  'product_name': 'Антисептик для влажной древесиныPROSEPT BiOконцентрат 1:19  / 1 л',\n",
       "  'levenshtein_distance': 96},\n",
       " {'id': 257,\n",
       "  'product_name': 'Антисептик для внутренних работPROSEPT INTERIORконцентрат 1:10 / 1 л',\n",
       "  'levenshtein_distance': 71}]"
      ]
     },
     "execution_count": 22,
     "metadata": {},
     "output_type": "execute_result"
    }
   ],
   "source": [
    "get_solution('Антисептик для влажной древесины PROSEPT BiO, концентрат 1:19 20 л', length=5)"
   ]
  },
  {
   "cell_type": "markdown",
   "id": "55e26176",
   "metadata": {},
   "source": [
    "## Проверка багов на проде"
   ]
  },
  {
   "cell_type": "code",
   "execution_count": 23,
   "id": "c3581d46",
   "metadata": {},
   "outputs": [
    {
     "data": {
      "text/plain": [
       "[{'id': 470,\n",
       "  'product_name': 'Концентрат для мытья полов и стен Multipower \"Цитрус\" 0,8 л',\n",
       "  'levenshtein_distance': 80},\n",
       " {'id': 434,\n",
       "  'product_name': 'Концентрат для мытья полов и стен Multipower \"Цитрус\" 0,8 л 2 ШТ',\n",
       "  'levenshtein_distance': 77},\n",
       " {'id': 26,\n",
       "  'product_name': 'Универсальный концентрат для мытья половMultipower FLOOR концентрат 1:10-1:200 / 1 л',\n",
       "  'levenshtein_distance': 75},\n",
       " {'id': 38,\n",
       "  'product_name': 'Концентрат для мытья половMULTIPOWER с ароматом цитрусаконцентрат / 1 л',\n",
       "  'levenshtein_distance': 75},\n",
       " {'id': 27,\n",
       "  'product_name': 'Универсальный концентрат для мытья половMultipower FLOOR концентрат 1:10-1:200 / 5 л',\n",
       "  'levenshtein_distance': 75},\n",
       " {'id': 45,\n",
       "  'product_name': 'Концентрат для мытья полов и стен Multipower \"Цитрус\" концентрат / 0,8 л',\n",
       "  'levenshtein_distance': 73},\n",
       " {'id': 30,\n",
       "  'product_name': 'Средство для мытья полов всех типов PROSEPT Multipower E, 1 л.',\n",
       "  'levenshtein_distance': 70},\n",
       " {'id': 471,\n",
       "  'product_name': 'Концентрат для мытья полов и стен  Multipower \"Полевые цветы\" 0,8 л',\n",
       "  'levenshtein_distance': 69},\n",
       " {'id': 435,\n",
       "  'product_name': 'Концентрат для мытья полов и стен  Multipower \"Полевые цветы\" 0,8 л 2ШТ',\n",
       "  'levenshtein_distance': 67},\n",
       " {'id': 22,\n",
       "  'product_name': 'Средство для мытья полов всех типовMultipower Neutral концентрат 1:64 - 1:500 / 1 л',\n",
       "  'levenshtein_distance': 67}]"
      ]
     },
     "execution_count": 23,
     "metadata": {},
     "output_type": "execute_result"
    }
   ],
   "source": [
    "get_solution('Концентрат Prosept Multipower для мытья полов, цитрус 1л')"
   ]
  },
  {
   "cell_type": "markdown",
   "id": "8417092f",
   "metadata": {},
   "source": [
    "<a id=\"Вывод\"></a>\n",
    "<div style=\"padding:20px;\n",
    "            color:white;\n",
    "            margin:10;\n",
    "            font-size:170%;\n",
    "            text-align:left;\n",
    "            display:fill;\n",
    "            border-radius:5px;\n",
    "            background-color:#294B8E;\n",
    "            overflow:hidden;\n",
    "            font-weight:700\"><span style='color:#CDA63A'>|</span> Вывод</div>"
   ]
  },
  {
   "cell_type": "markdown",
   "id": "110dbbb8",
   "metadata": {},
   "source": [
    "<div style=\"border-radius:10px; border:#DEB887 solid; padding: 15px; background-color: #FFFAF0; font-size:100%; text-align:left\">\n",
    "<br>📑Было необходимо разработать<b> рекомендательную модель, которая позволяет по продукту дилера найти подходящие соответствия из рядов товаров производителя.</b>. \n",
    "        \n",
    "        \n",
    "<br><b> Входные данные - данные о товарах заказчика и дилера. </b>\n",
    "    \n",
    "<br> 📊 Для разработки модели используется библиотека FuzzyWuzzy и расстояние Левенштейна. \n",
    "        \n",
    "<br> 📊 Функция `get_not_continuous_words()` разделяет слитные слова в столбце 'name'.\n",
    "        \n",
    "<br> 📊 Функция `get_not_continuous_words_when_entering()` при вводе разделяет слитные слова в столбце 'name'.. \n",
    "        \n",
    "<br> 📊 Функция `get_solution()`принимает строковую переменную товара дилера и возвращает список рекомендованных товаров продавца.\n",
    "    \n",
    "<br> ***Фичи:***\n",
    "    <ul>\n",
    "    <li>✅ работает для случайного набора слов в названии товара дилера;</li>\n",
    "    <li>✅ отрабатывает с сырыми данными парсинга;</li> \n",
    "    <li>✅ позволяет работать с заданным значением длины возвращаемого массива товаров.</li> \n",
    "    </ul>\n",
    "    \n",
    "<br> 📊 Данная версия тетрадки лучше сопоставляет продукт дилера с рядом товаров производителя, так как добавлена предобработка данных. Например, при вводе \"Пропитка-антисептик PROSEPT Ultra невымываемая для ответственных конструкций конц-т 1:10 1л\", \"Шпаклевка выравнивающая акриловая PROSEPT Plastix белая, 1 кг.\", \"Средство универсальное Prosept Universal Spray, 500мл\" старая версия тетрадки не выдавала правильного сопоставления товара, либо расстояние Левенштейна было ниже, в отличии от этой версии, так как товары производителя включали слитные слова. \n",
    "\n",
    "<br>Исходя из анализа, сделан вывод:\n",
    "        <br>             <b>- подготовлена рекомендательная модель для сопоставления товара дилера с товарами производителя. </b>      "
   ]
  }
 ],
 "metadata": {
  "kernelspec": {
   "display_name": "Python 3 (ipykernel)",
   "language": "python",
   "name": "python3"
  },
  "language_info": {
   "codemirror_mode": {
    "name": "ipython",
    "version": 3
   },
   "file_extension": ".py",
   "mimetype": "text/x-python",
   "name": "python",
   "nbconvert_exporter": "python",
   "pygments_lexer": "ipython3",
   "version": "3.11.5"
  },
  "widgets": {
   "application/vnd.jupyter.widget-state+json": {
    "state": {},
    "version_major": 2,
    "version_minor": 0
   }
  }
 },
 "nbformat": 4,
 "nbformat_minor": 5
}
