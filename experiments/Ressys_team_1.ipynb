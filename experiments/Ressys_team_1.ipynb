{
 "cells": [
  {
   "cell_type": "markdown",
   "id": "1e51b2b8",
   "metadata": {},
   "source": [
    "### <p style=\"font-family:JetBrains Mono; font-weight:bold; letter-spacing: 2px; color:#294B8E; font-size:140%; text-align:left;padding: 0px; border-bottom: 3px solid #294B8E\">Разработка рекомендательной модели на основе данных о товарах</p>"
   ]
  },
  {
   "cell_type": "markdown",
   "id": "0fa4011b",
   "metadata": {},
   "source": [
    "<a id=\"Описание-данных\"></a>\n",
    "<div style=\"padding:20px;\n",
    "            color:white;\n",
    "            margin:10;\n",
    "            font-size:170%;\n",
    "            text-align:left;\n",
    "            display:fill;\n",
    "            border-radius:5px;\n",
    "            background-color:#294B8E;\n",
    "            overflow:hidden;\n",
    "            font-weight:700\"><span style='color:#CDA63A'>|</span> Описание данных</div>"
   ]
  },
  {
   "cell_type": "markdown",
   "id": "8f6c676f",
   "metadata": {},
   "source": [
    "## marketing_dealer - список дилеров"
   ]
  },
  {
   "cell_type": "markdown",
   "id": "3c030171",
   "metadata": {},
   "source": [
    "## marketing_dealerprice - результат работы парсера площадок дилеров\n",
    "<ul>\n",
    "<li>product_key - уникальный номер позиции;</li>\n",
    "<li>price - цена;</li>\n",
    "<li>product_url - адрес страницы, откуда собраны данные;</li>\n",
    "<li>product_name - заголовок продаваемого товара;</li>   \n",
    "<li>date - дата получения информации;</li>\n",
    "<li>dealer_id - идентификатор дилера (внешний ключ к marketing_dealer)</li>\n",
    "</ul>"
   ]
  },
  {
   "cell_type": "markdown",
   "id": "0764158b",
   "metadata": {},
   "source": [
    "## marketing_product - список товаров, которые производит и распространяет заказчик\n",
    "<ul>\n",
    "<li>article - артикул товара;</li>\n",
    "<li>ean_13 - код товара (см. EAN 13);</li>\n",
    "<li>name - название товара;</li>\n",
    "<li>cost - стоимость;</li>\n",
    "<li>min_recommended_price - рекомендованная минимальная цена;</li>\n",
    "<li>recommended_price - рекомендованная цена;</li>\n",
    "<li>category_id - категория товара;</li>\n",
    "<li>ozon_name - названиет товара на Озоне;</li>\n",
    "<li>name_1c - название товара в 1C;</li>\n",
    "<li>wb_name - название товара на Wildberries;</li>\n",
    "<li>ozon_article - описание для Озон;</li>\n",
    "<li>wb_article - артикул для Wildberries;</li>\n",
    "<li>ym_article - артикул для Яндекс.Маркета;</li>\n",
    "</ul>"
   ]
  },
  {
   "cell_type": "markdown",
   "id": "3f8a7d8e",
   "metadata": {},
   "source": [
    "## marketing_productdealerkey - таблица матчинга товаров заказчика и товаров дилеров\n",
    "<ul>\n",
    "<li>key - внешний ключ к marketing_dealerprice</li>\n",
    "<li>product_id - внешний ключ к marketing_product</li>\n",
    "<li>dealer_id - внешний ключ к marketing_dealer</li>\n",
    "</ul>"
   ]
  },
  {
   "cell_type": "markdown",
   "id": "2122d13b",
   "metadata": {},
   "source": [
    "<div class=\"alert alert-block alert-info\" style=\"background-color:#FFFAF0;\n",
    "                                                 color:black;\n",
    "                                                 border-color:#DEB887;\n",
    "                                                 border-radius:5px;\n",
    "                                                 width:50%;\n",
    "                                                 margin: auto;\n",
    "                                                 text-align: left;\">\n",
    "\n",
    "\n",
    "Необходимо разработать рекомендательную модель, которая позволяет по продукту дилера найти подходящие соответствия из рядов товаров производителя.\n",
    "\n",
    "</div>"
   ]
  },
  {
   "cell_type": "markdown",
   "id": "a37d8f76",
   "metadata": {},
   "source": [
    "<a id=\"Загрузка-библиотек\"></a>\n",
    "<div style=\"padding:20px;\n",
    "            color:white;\n",
    "            margin:10;\n",
    "            font-size:170%;\n",
    "            text-align:left;\n",
    "            display:fill;\n",
    "            border-radius:5px;\n",
    "            background-color:#294B8E;\n",
    "            overflow:hidden;\n",
    "            font-weight:700\"><span style='color:#CDA63A'>|</span> Загрузка библиотек</div>"
   ]
  },
  {
   "cell_type": "code",
   "execution_count": 1,
   "id": "ef07cffd",
   "metadata": {},
   "outputs": [],
   "source": [
    "import re\n",
    "import pandas as pd\n",
    "from fuzzywuzzy import fuzz, process"
   ]
  },
  {
   "cell_type": "markdown",
   "id": "198f4ab8",
   "metadata": {},
   "source": [
    "<div style=\"border-radius:10px; border:#DEB887 solid; padding: 15px; background-color: #FFFAF0; font-size:100%; text-align:left\">Изучим наши датафреймы."
   ]
  },
  {
   "cell_type": "code",
   "execution_count": 2,
   "id": "8765ff46",
   "metadata": {
    "scrolled": false
   },
   "outputs": [
    {
     "data": {
      "text/html": [
       "<div>\n",
       "<style scoped>\n",
       "    .dataframe tbody tr th:only-of-type {\n",
       "        vertical-align: middle;\n",
       "    }\n",
       "\n",
       "    .dataframe tbody tr th {\n",
       "        vertical-align: top;\n",
       "    }\n",
       "\n",
       "    .dataframe thead th {\n",
       "        text-align: right;\n",
       "    }\n",
       "</style>\n",
       "<table border=\"1\" class=\"dataframe\">\n",
       "  <thead>\n",
       "    <tr style=\"text-align: right;\">\n",
       "      <th></th>\n",
       "      <th>Unnamed: 0</th>\n",
       "      <th>id</th>\n",
       "      <th>article</th>\n",
       "      <th>ean_13</th>\n",
       "      <th>name</th>\n",
       "      <th>cost</th>\n",
       "      <th>recommended_price</th>\n",
       "      <th>category_id</th>\n",
       "      <th>ozon_name</th>\n",
       "      <th>name_1c</th>\n",
       "      <th>wb_name</th>\n",
       "      <th>ozon_article</th>\n",
       "      <th>wb_article</th>\n",
       "      <th>ym_article</th>\n",
       "      <th>wb_article_td</th>\n",
       "    </tr>\n",
       "  </thead>\n",
       "  <tbody>\n",
       "    <tr>\n",
       "      <th>0</th>\n",
       "      <td>0</td>\n",
       "      <td>245</td>\n",
       "      <td>008-1</td>\n",
       "      <td>4.680008e+12</td>\n",
       "      <td>Антисептик невымываемыйPROSEPT ULTRAконцентрат...</td>\n",
       "      <td>360.00</td>\n",
       "      <td>858.0</td>\n",
       "      <td>20.0</td>\n",
       "      <td>Антисептик невымываемый для ответственных конс...</td>\n",
       "      <td>Антисептик невымываемый для ответственных конс...</td>\n",
       "      <td>Антисептик невымываемый для ответственных конс...</td>\n",
       "      <td>189522705.0</td>\n",
       "      <td>150033482.0</td>\n",
       "      <td>008-1</td>\n",
       "      <td>NaN</td>\n",
       "    </tr>\n",
       "    <tr>\n",
       "      <th>1</th>\n",
       "      <td>1</td>\n",
       "      <td>3</td>\n",
       "      <td>242-12</td>\n",
       "      <td>NaN</td>\n",
       "      <td>Антигололед - 32 PROSEPTготовый состав / 12 кг</td>\n",
       "      <td>460.16</td>\n",
       "      <td>1075.0</td>\n",
       "      <td>NaN</td>\n",
       "      <td>NaN</td>\n",
       "      <td>Антигололед - 32 PROSEPTготовый состав / 12 кг</td>\n",
       "      <td>NaN</td>\n",
       "      <td>NaN</td>\n",
       "      <td>NaN</td>\n",
       "      <td>NaN</td>\n",
       "      <td>NaN</td>\n",
       "    </tr>\n",
       "    <tr>\n",
       "      <th>2</th>\n",
       "      <td>2</td>\n",
       "      <td>443</td>\n",
       "      <td>0024-06 с</td>\n",
       "      <td>4.680008e+12</td>\n",
       "      <td>Герметик акриловый цвет сосна, ф/п 600мл</td>\n",
       "      <td>307.00</td>\n",
       "      <td>644.0</td>\n",
       "      <td>25.0</td>\n",
       "      <td>Герметик акриловый для швов для деревянных дом...</td>\n",
       "      <td>Герметик акриловый цвет сосна, ф/п 600мл</td>\n",
       "      <td>Герметик акриловый для швов для деревянных дом...</td>\n",
       "      <td>189522735.0</td>\n",
       "      <td>150126217.0</td>\n",
       "      <td>0024-06-с</td>\n",
       "      <td>NaN</td>\n",
       "    </tr>\n",
       "    <tr>\n",
       "      <th>3</th>\n",
       "      <td>3</td>\n",
       "      <td>147</td>\n",
       "      <td>305-2</td>\n",
       "      <td>4.610093e+12</td>\n",
       "      <td>Кондиционер для белья с ароматом  королевского...</td>\n",
       "      <td>157.73</td>\n",
       "      <td>342.0</td>\n",
       "      <td>29.0</td>\n",
       "      <td>Кондиционер для белья \"Королевский Ирис\" Prose...</td>\n",
       "      <td>Кондиционер для белья \"Королевский Ирис\" Prose...</td>\n",
       "      <td>Кондиционер для белья \"Королевский Ирис\" Prose...</td>\n",
       "      <td>339377922.0</td>\n",
       "      <td>150032962.0</td>\n",
       "      <td>305-2</td>\n",
       "      <td>NaN</td>\n",
       "    </tr>\n",
       "    <tr>\n",
       "      <th>4</th>\n",
       "      <td>4</td>\n",
       "      <td>502</td>\n",
       "      <td>0024-7 б</td>\n",
       "      <td>NaN</td>\n",
       "      <td>Герметик акриловой  цвет Белый, 7 кг</td>\n",
       "      <td>NaN</td>\n",
       "      <td>NaN</td>\n",
       "      <td>NaN</td>\n",
       "      <td>NaN</td>\n",
       "      <td>NaN</td>\n",
       "      <td>NaN</td>\n",
       "      <td>189522867.0</td>\n",
       "      <td>150126216.0</td>\n",
       "      <td>0024-7-б</td>\n",
       "      <td>NaN</td>\n",
       "    </tr>\n",
       "  </tbody>\n",
       "</table>\n",
       "</div>"
      ],
      "text/plain": [
       "   Unnamed: 0   id    article        ean_13  \\\n",
       "0           0  245      008-1  4.680008e+12   \n",
       "1           1    3     242-12           NaN   \n",
       "2           2  443  0024-06 с  4.680008e+12   \n",
       "3           3  147      305-2  4.610093e+12   \n",
       "4           4  502   0024-7 б           NaN   \n",
       "\n",
       "                                                name    cost  \\\n",
       "0  Антисептик невымываемыйPROSEPT ULTRAконцентрат...  360.00   \n",
       "1     Антигололед - 32 PROSEPTготовый состав / 12 кг  460.16   \n",
       "2           Герметик акриловый цвет сосна, ф/п 600мл  307.00   \n",
       "3  Кондиционер для белья с ароматом  королевского...  157.73   \n",
       "4               Герметик акриловой  цвет Белый, 7 кг     NaN   \n",
       "\n",
       "   recommended_price  category_id  \\\n",
       "0              858.0         20.0   \n",
       "1             1075.0          NaN   \n",
       "2              644.0         25.0   \n",
       "3              342.0         29.0   \n",
       "4                NaN          NaN   \n",
       "\n",
       "                                           ozon_name  \\\n",
       "0  Антисептик невымываемый для ответственных конс...   \n",
       "1                                                NaN   \n",
       "2  Герметик акриловый для швов для деревянных дом...   \n",
       "3  Кондиционер для белья \"Королевский Ирис\" Prose...   \n",
       "4                                                NaN   \n",
       "\n",
       "                                             name_1c  \\\n",
       "0  Антисептик невымываемый для ответственных конс...   \n",
       "1     Антигололед - 32 PROSEPTготовый состав / 12 кг   \n",
       "2           Герметик акриловый цвет сосна, ф/п 600мл   \n",
       "3  Кондиционер для белья \"Королевский Ирис\" Prose...   \n",
       "4                                                NaN   \n",
       "\n",
       "                                             wb_name  ozon_article  \\\n",
       "0  Антисептик невымываемый для ответственных конс...   189522705.0   \n",
       "1                                                NaN           NaN   \n",
       "2  Герметик акриловый для швов для деревянных дом...   189522735.0   \n",
       "3  Кондиционер для белья \"Королевский Ирис\" Prose...   339377922.0   \n",
       "4                                                NaN   189522867.0   \n",
       "\n",
       "    wb_article ym_article wb_article_td  \n",
       "0  150033482.0      008-1           NaN  \n",
       "1          NaN        NaN           NaN  \n",
       "2  150126217.0  0024-06-с           NaN  \n",
       "3  150032962.0      305-2           NaN  \n",
       "4  150126216.0   0024-7-б           NaN  "
      ]
     },
     "execution_count": 2,
     "metadata": {},
     "output_type": "execute_result"
    }
   ],
   "source": [
    "marketing_product = pd.read_csv('marketing_product.csv', sep = ';')\n",
    "marketing_product.head()"
   ]
  },
  {
   "cell_type": "code",
   "execution_count": 3,
   "id": "828b55b1",
   "metadata": {},
   "outputs": [
    {
     "name": "stdout",
     "output_type": "stream",
     "text": [
      "<class 'pandas.core.frame.DataFrame'>\n",
      "RangeIndex: 496 entries, 0 to 495\n",
      "Data columns (total 15 columns):\n",
      " #   Column             Non-Null Count  Dtype  \n",
      "---  ------             --------------  -----  \n",
      " 0   Unnamed: 0         496 non-null    int64  \n",
      " 1   id                 496 non-null    int64  \n",
      " 2   article            496 non-null    object \n",
      " 3   ean_13             464 non-null    float64\n",
      " 4   name               494 non-null    object \n",
      " 5   cost               491 non-null    float64\n",
      " 6   recommended_price  491 non-null    float64\n",
      " 7   category_id        447 non-null    float64\n",
      " 8   ozon_name          458 non-null    object \n",
      " 9   name_1c            485 non-null    object \n",
      " 10  wb_name            455 non-null    object \n",
      " 11  ozon_article       365 non-null    float64\n",
      " 12  wb_article         340 non-null    float64\n",
      " 13  ym_article         337 non-null    object \n",
      " 14  wb_article_td      32 non-null     object \n",
      "dtypes: float64(6), int64(2), object(7)\n",
      "memory usage: 58.3+ KB\n"
     ]
    }
   ],
   "source": [
    "marketing_product.info()"
   ]
  },
  {
   "cell_type": "code",
   "execution_count": 4,
   "id": "fafcb839",
   "metadata": {},
   "outputs": [],
   "source": [
    "manufacturer_data = marketing_product[['id','name']]"
   ]
  },
  {
   "cell_type": "markdown",
   "id": "ba2783c6",
   "metadata": {},
   "source": [
    "<div style=\"border-radius:10px; border:#DEB887 solid; padding: 15px; background-color: #FFFAF0; font-size:100%; text-align:left\">Сохраним таблицу. Она необходимо, чтобы в дальнейшем не повторять этот шаг при каждом повторном вызове скрипта модели."
   ]
  },
  {
   "cell_type": "code",
   "execution_count": 5,
   "id": "44a66ce7",
   "metadata": {},
   "outputs": [],
   "source": [
    "manufacturer_data.to_csv('manufacturer_data.csv', index=False)"
   ]
  },
  {
   "cell_type": "markdown",
   "id": "8da1b7cd",
   "metadata": {},
   "source": [
    "<div style=\"border-radius:10px; border:#DEB887 solid; padding: 15px; background-color: #FFFAF0; font-size:100%; text-align:left\"> Загрузим объединенную таблицу."
   ]
  },
  {
   "cell_type": "code",
   "execution_count": 6,
   "id": "3259135a",
   "metadata": {},
   "outputs": [],
   "source": [
    "manufacturer_data = pd.read_csv('manufacturer_data.csv') "
   ]
  },
  {
   "cell_type": "markdown",
   "id": "88432864",
   "metadata": {},
   "source": [
    "<div style=\"border-radius:10px; border:#DEB887 solid; padding: 15px; background-color: #FFFAF0; font-size:100%; text-align:left\">Создадим рекомендательную систему."
   ]
  },
  {
   "cell_type": "code",
   "execution_count": 7,
   "id": "5da80a7b",
   "metadata": {},
   "outputs": [],
   "source": [
    "def get_suitable_products(\n",
    "        dealer_product: str, \n",
    "        manufactur_products: pd.Series,\n",
    "        levenshtein_distance_max: int,\n",
    "    ) -> list:\n",
    "    '''\n",
    "    A Model Explanation System\n",
    "    \n",
    "    return: Array of suitable manufactur products\n",
    "    '''\n",
    "    \n",
    "    suitable_products = []\n",
    "    for product in manufactur_products['name']:\n",
    "        l_d = fuzz.token_sort_ratio(dealer_product, product)\n",
    "        if (l_d >= levenshtein_distance_max):\n",
    "            manufactur_product_id = manufactur_products[\n",
    "                manufactur_products['name'] == product\n",
    "            ]['id'].to_string(index=False)\n",
    "            suitable_products.append({\n",
    "                'id':  manufactur_product_id, \n",
    "                'product_name': product, \n",
    "                'levenshtein_distance': l_d \n",
    "            })\n",
    "    return suitable_products"
   ]
  },
  {
   "cell_type": "code",
   "execution_count": 8,
   "id": "cff161f9",
   "metadata": {},
   "outputs": [],
   "source": [
    "def get_solution(\n",
    "        dealer_product: str,\n",
    "        length: int = 10,\n",
    "        manufactur_products: pd.Series = manufacturer_data,\n",
    "        levenshtein_distance_max: int = 50,\n",
    "    ) -> list:\n",
    "    \n",
    "    suitable_solution = get_suitable_products(\n",
    "        dealer_product, \n",
    "        manufactur_products, \n",
    "        levenshtein_distance_max\n",
    "    )\n",
    "    solution = sorted(suitable_solution, key=lambda x: x['levenshtein_distance'], reverse=True)\n",
    "    last_index = length if length < len(solution) else len(solution)\n",
    "    \n",
    "    return solution[0: last_index]\n",
    "    "
   ]
  },
  {
   "cell_type": "markdown",
   "id": "257362e6",
   "metadata": {},
   "source": [
    "<a id=\"Загрузка-библиотек\"></a>\n",
    "<div style=\"padding:20px;\n",
    "            color:white;\n",
    "            margin:10;\n",
    "            font-size:170%;\n",
    "            text-align:left;\n",
    "            display:fill;\n",
    "            border-radius:5px;\n",
    "            background-color:#294B8E;\n",
    "            overflow:hidden;\n",
    "            font-weight:700\"><span style='color:#CDA63A'>|</span> Тесты</div>"
   ]
  },
  {
   "cell_type": "markdown",
   "id": "89d36373",
   "metadata": {},
   "source": [
    "<div style=\"border-radius:10px; border:#DEB887 solid; padding: 15px; background-color: #FFFAF0; font-size:100%; text-align:left\"> Проверим как отрабатывает модель при различных входных данных."
   ]
  },
  {
   "cell_type": "markdown",
   "id": "b4e776ca",
   "metadata": {},
   "source": [
    "## Тест 1"
   ]
  },
  {
   "cell_type": "markdown",
   "id": "3084f8ef",
   "metadata": {},
   "source": [
    "### Случайное название товара дилера"
   ]
  },
  {
   "cell_type": "code",
   "execution_count": 9,
   "id": "31f5de1e",
   "metadata": {},
   "outputs": [
    {
     "data": {
      "text/plain": [
       "[{'id': '129',\n",
       "  'product_name': 'Средство для удаления клейкой ленты, клея, наклеекDuty Universalготовый состав / 2 л',\n",
       "  'levenshtein_distance': 61},\n",
       " {'id': '1',\n",
       "  'product_name': 'Средство для удаления наклеек Duty Universal / 210мл',\n",
       "  'levenshtein_distance': 61},\n",
       " {'id': '128',\n",
       "  'product_name': 'Средство для удаления клейкой ленты, клея, наклеекDuty Universalготовый состав / 400мл',\n",
       "  'levenshtein_distance': 60},\n",
       " {'id': '408',\n",
       "  'product_name': 'Средство для снятия обоев спрей / 1 л',\n",
       "  'levenshtein_distance': 51},\n",
       " {'id': '122',\n",
       "  'product_name': 'Средство для удаления гипсовой пылиDuty Whiteконцентрат 1:10-1:100 / 5 л  ',\n",
       "  'levenshtein_distance': 50},\n",
       " {'id': '121',\n",
       "  'product_name': 'Средство для удаления гипсовой пылиDuty Whiteконцентрат 1:10-1:100 / 1 л  ',\n",
       "  'levenshtein_distance': 50}]"
      ]
     },
     "execution_count": 9,
     "metadata": {},
     "output_type": "execute_result"
    }
   ],
   "source": [
    "get_solution('Средство для удаления ленты  клейкой ')"
   ]
  },
  {
   "cell_type": "markdown",
   "id": "d8cefa57",
   "metadata": {},
   "source": [
    "## Тест 2"
   ]
  },
  {
   "cell_type": "markdown",
   "id": "310a4bfe",
   "metadata": {},
   "source": [
    "### Случайное название товара дилера"
   ]
  },
  {
   "cell_type": "code",
   "execution_count": 10,
   "id": "d80e956f",
   "metadata": {},
   "outputs": [
    {
     "data": {
      "text/plain": [
       "[{'id': '267',\n",
       "  'product_name': 'Антисептик для влажной древесиныPROSEPT BiOконцентрат 1:19 / 20 л',\n",
       "  'levenshtein_distance': 72},\n",
       " {'id': '268',\n",
       "  'product_name': 'Антисептик для влажной древесиныPROSEPT BiOконцентрат 1:19  / 30 л',\n",
       "  'levenshtein_distance': 70},\n",
       " {'id': '266',\n",
       "  'product_name': 'Антисептик для влажной древесиныPROSEPT BiOконцентрат 1:19 / 5 л',\n",
       "  'levenshtein_distance': 69},\n",
       " {'id': '265',\n",
       "  'product_name': 'Антисептик для влажной древесиныPROSEPT BiOконцентрат 1:19  / 1 л',\n",
       "  'levenshtein_distance': 68},\n",
       " {'id': '498',\n",
       "  'product_name': 'Антисептик ULTRA, концентрат, 1 л, 2 шт',\n",
       "  'levenshtein_distance': 57},\n",
       " {'id': '500',\n",
       "  'product_name': 'Антисептик ULTRA MAX, концентрат, 1 кг, 2 шт',\n",
       "  'levenshtein_distance': 57},\n",
       " {'id': '501',\n",
       "  'product_name': 'Антисептик\\xa0 SAUNA, концентрат, 1 л, 2 шт',\n",
       "  'levenshtein_distance': 57},\n",
       " {'id': '255',\n",
       "  'product_name': 'Антисептик трудновымываемый для наружных работ PROSEPT EXTERIORконцентрат 1:19 / 20 л',\n",
       "  'levenshtein_distance': 57},\n",
       " {'id': '456',\n",
       "  'product_name': 'Антисептик для рук PROSEPT PROF DZ, 2 штуки*100 мл.',\n",
       "  'levenshtein_distance': 56},\n",
       " {'id': '241',\n",
       "  'product_name': 'Отбеливатель для древесины PROSEPT 50концентрат 1:1 / 5 л',\n",
       "  'levenshtein_distance': 55}]"
      ]
     },
     "execution_count": 10,
     "metadata": {},
     "output_type": "execute_result"
    }
   ],
   "source": [
    "get_solution('Антисептик для влажной древесины PROSEPT BiO, концентрат 1:19 20 л')"
   ]
  },
  {
   "cell_type": "markdown",
   "id": "13c2b8c1",
   "metadata": {},
   "source": [
    "## Тест 3"
   ]
  },
  {
   "cell_type": "markdown",
   "id": "39cfd658",
   "metadata": {},
   "source": [
    "### Случайное название товара дилера"
   ]
  },
  {
   "cell_type": "code",
   "execution_count": 11,
   "id": "161acf2f",
   "metadata": {},
   "outputs": [
    {
     "data": {
      "text/plain": [
       "[{'id': '209',\n",
       "  'product_name': 'Удалитель мха готовый состав / 1 л ',\n",
       "  'levenshtein_distance': 89},\n",
       " {'id': '210',\n",
       "  'product_name': 'Удалитель мха готовый состав / 5 л ',\n",
       "  'levenshtein_distance': 86},\n",
       " {'id': '484',\n",
       "  'product_name': 'Набор Удалитель мха, готовый состав, 1 л, 2 шт',\n",
       "  'levenshtein_distance': 80},\n",
       " {'id': '403',\n",
       "  'product_name': 'Удалитель ржавчины RUST REMOVER готовый состав / 0,5 л',\n",
       "  'levenshtein_distance': 74},\n",
       " {'id': '324',\n",
       "  'product_name': 'Лак для камня PROSEPTготовый состав / 2 л',\n",
       "  'levenshtein_distance': 68},\n",
       " {'id': '218',\n",
       "  'product_name': 'Лак яхтный PROSEPT, глянцевыйготовый состав / 2 л ',\n",
       "  'levenshtein_distance': 67},\n",
       " {'id': '390',\n",
       "  'product_name': 'Удалитель плесени FUNGI CLEAN готовый состав / 0,5 л',\n",
       "  'levenshtein_distance': 67},\n",
       " {'id': '323',\n",
       "  'product_name': 'Лак для камня PROSEPTготовый состав / 0,9 л',\n",
       "  'levenshtein_distance': 67},\n",
       " {'id': '328',\n",
       "  'product_name': 'Лак яхтный PROSEPT, полуматовый,готовый состав / 0,9 л',\n",
       "  'levenshtein_distance': 66},\n",
       " {'id': '327',\n",
       "  'product_name': 'Лак яхтный PROSEPT, глянцевый,готовый состав / 0,9 л ',\n",
       "  'levenshtein_distance': 65}]"
      ]
     },
     "execution_count": 11,
     "metadata": {},
     "output_type": "execute_result"
    }
   ],
   "source": [
    "get_solution('Удалитель мха готовый состав 1 л PROSEPT')"
   ]
  },
  {
   "cell_type": "markdown",
   "id": "61d88262",
   "metadata": {},
   "source": [
    "## Тест 4"
   ]
  },
  {
   "cell_type": "markdown",
   "id": "c9b9fda6",
   "metadata": {},
   "source": [
    "### C заданной длинной рекомендованных товаров 5 (по умолчанию 10)"
   ]
  },
  {
   "cell_type": "code",
   "execution_count": 12,
   "id": "1cd42e86",
   "metadata": {},
   "outputs": [
    {
     "data": {
      "text/plain": [
       "[{'id': '267',\n",
       "  'product_name': 'Антисептик для влажной древесиныPROSEPT BiOконцентрат 1:19 / 20 л',\n",
       "  'levenshtein_distance': 72},\n",
       " {'id': '268',\n",
       "  'product_name': 'Антисептик для влажной древесиныPROSEPT BiOконцентрат 1:19  / 30 л',\n",
       "  'levenshtein_distance': 70},\n",
       " {'id': '266',\n",
       "  'product_name': 'Антисептик для влажной древесиныPROSEPT BiOконцентрат 1:19 / 5 л',\n",
       "  'levenshtein_distance': 69},\n",
       " {'id': '265',\n",
       "  'product_name': 'Антисептик для влажной древесиныPROSEPT BiOконцентрат 1:19  / 1 л',\n",
       "  'levenshtein_distance': 68},\n",
       " {'id': '498',\n",
       "  'product_name': 'Антисептик ULTRA, концентрат, 1 л, 2 шт',\n",
       "  'levenshtein_distance': 57}]"
      ]
     },
     "execution_count": 12,
     "metadata": {},
     "output_type": "execute_result"
    }
   ],
   "source": [
    "get_solution('Антисептик для влажной древесины PROSEPT BiO, концентрат 1:19 20 л', length=5)"
   ]
  },
  {
   "cell_type": "code",
   "execution_count": 34,
   "id": "13569198",
   "metadata": {},
   "outputs": [
    {
     "data": {
      "text/plain": [
       "[{'id': '99',\n",
       "  'product_name': 'Средство для мытья посуды в посудомоечной машине. Для жесткой водыCooky Splash Softконцентрат 1:200-1:2000 / 20 л',\n",
       "  'levenshtein_distance': 66},\n",
       " {'id': '98',\n",
       "  'product_name': 'Средство для мытья посуды в посудомоечной машине. Для жесткой водыCooky Splash Softконцентрат 1:200-1:2000 / 10 л',\n",
       "  'levenshtein_distance': 66},\n",
       " {'id': '97',\n",
       "  'product_name': 'Средство для мытья посуды в посудомоечной машине. Для жесткой водыCooky Splash Softконцентрат 1:200-1:2000 / 5 л',\n",
       "  'levenshtein_distance': 66},\n",
       " {'id': '100',\n",
       "  'product_name': 'Средство для мытья посуды в посудомоечной машине. Для жесткой водыCooky Splash Hard концентрат 1:200-1:2000 / 5 л',\n",
       "  'levenshtein_distance': 63},\n",
       " {'id': '506',\n",
       "  'product_name': 'Набор для посудомоечной посуды PROSEPT, 3 средства',\n",
       "  'levenshtein_distance': 61},\n",
       " {'id': '102',\n",
       "  'product_name': 'Средство для мытья посуды в посудомоечной машине. Для жесткой водыCooky Splash Hard концентрат 1:200-1:2000 / 20 л',\n",
       "  'levenshtein_distance': 61},\n",
       " {'id': '101',\n",
       "  'product_name': 'Средство для мытья посуды в посудомоечной машине. Для жесткой водыCooky Splash Hard концентрат 1:200-1:2000 / 10 л',\n",
       "  'levenshtein_distance': 61},\n",
       " {'id': '509',\n",
       "  'product_name': 'Набор для посудомоечной посуды PROSEPT, 2 средства (ополаскиватель и соль)',\n",
       "  'levenshtein_distance': 60},\n",
       " {'id': '508',\n",
       "  'product_name': 'Набор для посудомоечной посуды PROSEPT, 2 средства (гель и ополаскиватель)',\n",
       "  'levenshtein_distance': 59},\n",
       " {'id': '106',\n",
       "  'product_name': 'Специальная соль для посудомоечных машин Splashготовый состав / 1,5 кг',\n",
       "  'levenshtein_distance': 54}]"
      ]
     },
     "execution_count": 34,
     "metadata": {},
     "output_type": "execute_result"
    }
   ],
   "source": [
    "get_solution('Просепт Professional Splash Soft средство для мытья посуды в посудомоечной машине (5 л)')"
   ]
  },
  {
   "cell_type": "markdown",
   "id": "4baa682d",
   "metadata": {},
   "source": [
    "<a id=\"Загрузка-библиотек\"></a>\n",
    "<div style=\"padding:20px;\n",
    "            color:white;\n",
    "            margin:10;\n",
    "            font-size:170%;\n",
    "            text-align:left;\n",
    "            display:fill;\n",
    "            border-radius:5px;\n",
    "            background-color:#294B8E;\n",
    "            overflow:hidden;\n",
    "            font-weight:700\"><span style='color:#CDA63A'>|</span> Выводы</div>"
   ]
  },
  {
   "cell_type": "markdown",
   "id": "56687dd3",
   "metadata": {},
   "source": [
    "***Подготовлена*** рекомендательная модель для сопоставления товара дилера с товарами производителя.\n",
    "Функция `get_solution()`принимает строковую переменную товара дилера и возвращает список рекомендованных товаров продавца.\n",
    "\n",
    "***Фичи:***\n",
    "\n",
    "    - ✅ работает для случайного набора слов в названии товара дилера;    \n",
    "    - ✅ отрабатывает с сырыми данными парсинга;\n",
    "    - ✅ позволяет работать с заданным значением длины возвращаемого массива товаров.\n"
   ]
  }
 ],
 "metadata": {
  "kernelspec": {
   "display_name": "Python 3 (ipykernel)",
   "language": "python",
   "name": "python3"
  },
  "language_info": {
   "codemirror_mode": {
    "name": "ipython",
    "version": 3
   },
   "file_extension": ".py",
   "mimetype": "text/x-python",
   "name": "python",
   "nbconvert_exporter": "python",
   "pygments_lexer": "ipython3",
   "version": "3.11.5"
  }
 },
 "nbformat": 4,
 "nbformat_minor": 5
}
